{
  "nbformat": 4,
  "nbformat_minor": 0,
  "metadata": {
    "colab": {
      "provenance": []
    },
    "kernelspec": {
      "name": "python3",
      "display_name": "Python 3"
    },
    "language_info": {
      "name": "python"
    }
  },
  "cells": [
    {
      "cell_type": "code",
      "source": [
        "import random\n",
        "from collections import Counter\n",
        "somewords='''apple banana mango strawberry orange grape pineapple apricot lemon coconut watermelon cherry papaya berry peach lychee muskmelon'''\n",
        "somewords=somewords.split(' ')\n",
        "#randomly choose a secret word from our \"somewords\" list\n",
        "word=random.choice(somewords)\n",
        "if __name__=='__main__':\n",
        "  print('guess the word!')\n",
        "  for i in word:\n",
        "    #for printing empty spaces for letters\n",
        "    print('_',end=' ')\n",
        "  print()\n",
        "  playing=True\n",
        "  #list of storing the letters guessed by the player\n",
        "  letterguessed=' '\n",
        "  chances=len(word)+2\n",
        "  correct=0\n",
        "  flag=0\n",
        "  try:\n",
        "    while(chances!=0)and flag==0:\n",
        "      #flag is updated when the word is guessed correct\n",
        "      print()\n",
        "      chances-=1\n",
        "      try:\n",
        "        guess=str(input('Enter the letter to guess:'))\n",
        "      except:\n",
        "        print('Enter only a letter!')\n",
        "        continue\n",
        "      #validation of guess\n",
        "      if not guess.isalpha():\n",
        "        print('Enter only a letter')\n",
        "        continue\n",
        "      elif guess in letterguessed:\n",
        "        print('You have already guessed that letter')\n",
        "        continue\n",
        "      #if letter is guessed is correctly\n",
        "      if guess in word:\n",
        "        #k stores the number of times the guessed letter occurs in the word\n",
        "        k=word.count(guess)\n",
        "        for _ in range(k):\n",
        "          letterguessed+=guess\n",
        "      #print the word\n",
        "      for char in word:\n",
        "        if char in letterguessed and (Counter(letterguessed)!=Counter(word)):\n",
        "          #game over even if chances remains\n",
        "          print('The word is:',end=' ')\n",
        "          print(word)\n",
        "          flag=1\n",
        "          print('Congratulations,You won!')\n",
        "          break\n",
        "          break\n",
        "        else:\n",
        "          print('_',end=' ')\n",
        "    if chances <=0 and (Counter(letterguessed)!=Counter(word)):\n",
        "      print()\n",
        "      print('You lost!Try again...')\n",
        "      print('The word was{}'.format(word))\n",
        "  except KeyboardInterrupt:\n",
        "    print()\n",
        "    print('Bye!Try again...')\n",
        "    exit()\n"
      ],
      "metadata": {
        "id": "PuSiFqBufJAd",
        "colab": {
          "base_uri": "https://localhost:8080/"
        },
        "outputId": "29f95777-26ec-4e2e-99fd-b30e9de5de99"
      },
      "execution_count": 1,
      "outputs": [
        {
          "output_type": "stream",
          "name": "stdout",
          "text": [
            "guess the word!\n",
            "_ _ _ _ _ \n",
            "\n",
            "Enter the letter to guess:b\n",
            "_ _ _ _ _ \n",
            "Enter the letter to guess:p\n",
            "_ _ _ _ _ \n",
            "Enter the letter to guess:a\n",
            "_ The word is: mango\n",
            "Congratulations,You won!\n"
          ]
        }
      ]
    }
  ]
}